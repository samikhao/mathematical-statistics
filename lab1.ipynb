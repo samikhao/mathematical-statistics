{
 "cells": [
  {
   "cell_type": "markdown",
   "metadata": {},
   "source": [
    "Лабораторная работа 1. Вариант 2. Баркова Александра, ИСУ: 408223"
   ]
  },
  {
   "cell_type": "markdown",
   "metadata": {},
   "source": [
    "Задание\n",
    "Дана выборка объема n=20, по ней:\n",
    "1) приблизить мат ожидание, дисперсию;\n",
    "2) построить вариационный ряд и эмпирическую функцию распределения - график;\n",
    "3) найти медиану.\n",
    "\n",
    "Сделать выводы."
   ]
  },
  {
   "cell_type": "code",
   "execution_count": 44,
   "metadata": {},
   "outputs": [],
   "source": [
    "import numpy as np\n",
    "\n",
    "\n",
    "n = 20\n",
    "data = np.array([3.03, 2.88, 3, 3.03, 2.93, 3.26, 3.09, 2.85, 3.11, 3, 2.96, 3.18, 3.02, 3.26, 3.05, 2.94, 2.91, 2.83, 3.18, 3.02])"
   ]
  },
  {
   "cell_type": "code",
   "execution_count": 45,
   "metadata": {},
   "outputs": [],
   "source": [
    "def r(x):\n",
    "    return round(x, 2)"
   ]
  },
  {
   "cell_type": "markdown",
   "metadata": {},
   "source": [
    "Мат. ожидание приближает выборочное среднее, а дисперсию - выборочная дисперсия."
   ]
  },
  {
   "cell_type": "code",
   "execution_count": 46,
   "metadata": {},
   "outputs": [
    {
     "name": "stdout",
     "output_type": "stream",
     "text": [
      "3.03\n",
      "3.03\n"
     ]
    }
   ],
   "source": [
    "my_mean = sum(data) / n\n",
    "np_mean = np.mean(data)\n",
    "print(r(my_mean), r(np_mean), sep='\\n')"
   ]
  },
  {
   "cell_type": "code",
   "execution_count": 51,
   "metadata": {},
   "outputs": [
    {
     "name": "stdout",
     "output_type": "stream",
     "text": [
      "0.014762749999999988 0.01553973684210525\n",
      "0.01 0.02\n",
      "0.01 0.02\n"
     ]
    }
   ],
   "source": [
    "my_population_var = sum((data - my_mean) ** 2) / n  # смещённая\n",
    "my_sample_var = sum((data - my_mean) ** 2) / (n - 1)  # несмещённая\n",
    "\n",
    "np_population_var = np.var(data)\n",
    "np_sample_var = np.var(data, ddof=1)\n",
    "\n",
    "print(my_population_var, my_sample_var)\n",
    "print(r(my_population_var), r(my_sample_var))\n",
    "print(r(np_population_var), r(np_sample_var))"
   ]
  },
  {
   "cell_type": "code",
   "execution_count": 48,
   "metadata": {},
   "outputs": [
    {
     "data": {
      "text/plain": [
       "[(2.83, 0.05),\n",
       " (2.85, 0.1),\n",
       " (2.88, 0.15),\n",
       " (2.91, 0.2),\n",
       " (2.93, 0.25),\n",
       " (2.94, 0.3),\n",
       " (2.96, 0.35),\n",
       " (3.0, 0.4),\n",
       " (3.0, 0.45),\n",
       " (3.02, 0.5),\n",
       " (3.02, 0.55),\n",
       " (3.03, 0.6),\n",
       " (3.03, 0.65),\n",
       " (3.05, 0.7),\n",
       " (3.09, 0.75),\n",
       " (3.11, 0.8),\n",
       " (3.18, 0.85),\n",
       " (3.18, 0.9),\n",
       " (3.26, 0.95),\n",
       " (3.26, 1.0)]"
      ]
     },
     "execution_count": 48,
     "metadata": {},
     "output_type": "execute_result"
    }
   ],
   "source": [
    "X_series = sorted(data)\n",
    "empirical_cdf = [(x, (i + 1) / n) for i, x in enumerate(X_series)]\n",
    "empirical_cdf"
   ]
  },
  {
   "cell_type": "code",
   "execution_count": 49,
   "metadata": {},
   "outputs": [
    {
     "data": {
      "image/png": "[encoded data removed]",
      "text/plain": [
       "<Figure size 640x480 with 1 Axes>"
      ]
     },
     "metadata": {},
     "output_type": "display_data"
    }
   ],
   "source": [
    "import matplotlib.pyplot as plt\n",
    "\n",
    "x_values = [x for x, _ in empirical_cdf]\n",
    "y_values = [f_x for _, f_x in empirical_cdf]\n",
    "\n",
    "plt.step(x_values, y_values, where='post', label=\"Эмпирическая функция\")\n",
    "plt.xlabel(\"Значение\")\n",
    "plt.ylabel(\"F(x)\")\n",
    "plt.title(\"Эмпирическая функция распределения\")\n",
    "plt.grid()\n",
    "plt.legend()\n",
    "plt.show()"
   ]
  },
  {
   "cell_type": "code",
   "execution_count": 50,
   "metadata": {},
   "outputs": [
    {
     "name": "stdout",
     "output_type": "stream",
     "text": [
      "3.02\n",
      "3.02\n"
     ]
    }
   ],
   "source": [
    "if n % 2 == 1:\n",
    "    my_median = X_series[n // 2]\n",
    "else:\n",
    "    my_median = (X_series[n // 2 - 1] + X_series[n // 2]) / 2\n",
    "\n",
    "np_median = np.median(data)\n",
    "\n",
    "print(r(my_median), r(np_median), sep='\\n')"
   ]
  },
  {
   "cell_type": "markdown",
   "metadata": {},
   "source": [
    "Выводы\n",
    "\n",
    "В работе были приближены мат. ожидание, дисперсия, построены вариационный ряд и ЭФР, найдена медиана выборки. Значения, вычисленные вручную, совпадают со значениями, найденными при помощи numpy, что подтверждает корректность расчётов.\n"
   ]
  }
 ],
 "metadata": {
  "kernelspec": {
   "display_name": "Python 3",
   "language": "python",
   "name": "python3"
  },
  "language_info": {
   "codemirror_mode": {
    "name": "ipython",
    "version": 3
   },
   "file_extension": ".py",
   "mimetype": "text/x-python",
   "name": "python",
   "nbconvert_exporter": "python",
   "pygments_lexer": "ipython3",
   "version": "3.12.1"
  }
 },
 "nbformat": 4,
 "nbformat_minor": 2
}
